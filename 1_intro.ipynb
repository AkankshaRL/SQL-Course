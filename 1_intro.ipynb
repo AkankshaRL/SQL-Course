{
 "cells": [
  {
   "cell_type": "markdown",
   "id": "72378a59",
   "metadata": {},
   "source": [
    "SQL stands for “Structured Query Language” and can be pronounced as “SQL” or “sequel – (Structured English Query Language)”. It is used to query, modify, and transform data in a relational database. Database consists of one or more data tables. A query is an inquiry or request about data from a database. "
   ]
  },
  {
   "cell_type": "markdown",
   "id": "12980a4e",
   "metadata": {},
   "source": [
    "Every app uses database that helps store data and provides functionality like modifying and querying the data. Databases can be in many forms like Spatial, non-relational, graph , relational. Most popular amongst them is a Relational database."
   ]
  },
  {
   "cell_type": "markdown",
   "id": "eff87cf4",
   "metadata": {},
   "source": [
    "SQL is used to query a structured data i.e. data in the tabular form. Columns in the table are referred to as fields and rows as a record. "
   ]
  },
  {
   "cell_type": "markdown",
   "id": "4c745489",
   "metadata": {},
   "source": [
    "A relational database is a type of database that stores and provides access to the values that are related to one another. "
   ]
  },
  {
   "cell_type": "markdown",
   "id": "edd48eb3",
   "metadata": {},
   "source": [
    "The columns of the table hold attributes/properties of the data, and each row usually has a value for each attribute, making it easy to establish the relationships among them."
   ]
  },
  {
   "cell_type": "markdown",
   "id": "15a6f294",
   "metadata": {},
   "source": [
    " A relational database represents a collection of related (two-dimensional) tables. Each of the tables are similar to an Excel spreadsheet, with a fixed number of named columns (the attributes or properties of the table) and any number of rows of data."
   ]
  },
  {
   "cell_type": "code",
   "execution_count": 1,
   "id": "9ebc8410",
   "metadata": {
    "scrolled": true
   },
   "outputs": [
    {
     "data": {
      "text/html": [
       "<div>\n",
       "<style scoped>\n",
       "    .dataframe tbody tr th:only-of-type {\n",
       "        vertical-align: middle;\n",
       "    }\n",
       "\n",
       "    .dataframe tbody tr th {\n",
       "        vertical-align: top;\n",
       "    }\n",
       "\n",
       "    .dataframe thead th {\n",
       "        text-align: right;\n",
       "    }\n",
       "</style>\n",
       "<table border=\"1\" class=\"dataframe\">\n",
       "  <thead>\n",
       "    <tr style=\"text-align: right;\">\n",
       "      <th></th>\n",
       "      <th>employee_name</th>\n",
       "      <th>location</th>\n",
       "    </tr>\n",
       "    <tr>\n",
       "      <th>id</th>\n",
       "      <th></th>\n",
       "      <th></th>\n",
       "    </tr>\n",
       "  </thead>\n",
       "  <tbody>\n",
       "    <tr>\n",
       "      <th>1</th>\n",
       "      <td>Rahul</td>\n",
       "      <td>Mumbai</td>\n",
       "    </tr>\n",
       "    <tr>\n",
       "      <th>2</th>\n",
       "      <td>Radhika</td>\n",
       "      <td>Pune</td>\n",
       "    </tr>\n",
       "  </tbody>\n",
       "</table>\n",
       "</div>"
      ],
      "text/plain": [
       "   employee_name location\n",
       "id                       \n",
       "1          Rahul   Mumbai\n",
       "2        Radhika     Pune"
      ]
     },
     "execution_count": 1,
     "metadata": {},
     "output_type": "execute_result"
    }
   ],
   "source": [
    "import pandas as pd\n",
    "df1 = pd.DataFrame({'id':[1,2], 'employee_name': [ 'Rahul', 'Radhika'], 'location':['Mumbai', 'Pune']})\n",
    "df1.set_index('id', inplace = True)\n",
    "df1"
   ]
  },
  {
   "cell_type": "code",
   "execution_count": 2,
   "id": "7ef57249",
   "metadata": {},
   "outputs": [
    {
     "data": {
      "text/html": [
       "<div>\n",
       "<style scoped>\n",
       "    .dataframe tbody tr th:only-of-type {\n",
       "        vertical-align: middle;\n",
       "    }\n",
       "\n",
       "    .dataframe tbody tr th {\n",
       "        vertical-align: top;\n",
       "    }\n",
       "\n",
       "    .dataframe thead th {\n",
       "        text-align: right;\n",
       "    }\n",
       "</style>\n",
       "<table border=\"1\" class=\"dataframe\">\n",
       "  <thead>\n",
       "    <tr style=\"text-align: right;\">\n",
       "      <th></th>\n",
       "      <th>profession</th>\n",
       "      <th>salary</th>\n",
       "    </tr>\n",
       "    <tr>\n",
       "      <th>id</th>\n",
       "      <th></th>\n",
       "      <th></th>\n",
       "    </tr>\n",
       "  </thead>\n",
       "  <tbody>\n",
       "    <tr>\n",
       "      <th>1</th>\n",
       "      <td>Engineer</td>\n",
       "      <td>60000</td>\n",
       "    </tr>\n",
       "    <tr>\n",
       "      <th>2</th>\n",
       "      <td>Statistician</td>\n",
       "      <td>80000</td>\n",
       "    </tr>\n",
       "  </tbody>\n",
       "</table>\n",
       "</div>"
      ],
      "text/plain": [
       "      profession  salary\n",
       "id                      \n",
       "1       Engineer   60000\n",
       "2   Statistician   80000"
      ]
     },
     "execution_count": 2,
     "metadata": {},
     "output_type": "execute_result"
    }
   ],
   "source": [
    "df2 = pd.DataFrame({'id':[1,2], 'profession': [ 'Engineer', 'Statistician'], 'salary':[60000, 80000]})\n",
    "df2.set_index('id', inplace = True)\n",
    "df2"
   ]
  },
  {
   "cell_type": "code",
   "execution_count": 3,
   "id": "80aff76a",
   "metadata": {},
   "outputs": [
    {
     "data": {
      "text/html": [
       "<div>\n",
       "<style scoped>\n",
       "    .dataframe tbody tr th:only-of-type {\n",
       "        vertical-align: middle;\n",
       "    }\n",
       "\n",
       "    .dataframe tbody tr th {\n",
       "        vertical-align: top;\n",
       "    }\n",
       "\n",
       "    .dataframe thead th {\n",
       "        text-align: right;\n",
       "    }\n",
       "</style>\n",
       "<table border=\"1\" class=\"dataframe\">\n",
       "  <thead>\n",
       "    <tr style=\"text-align: right;\">\n",
       "      <th></th>\n",
       "      <th>expertise</th>\n",
       "    </tr>\n",
       "    <tr>\n",
       "      <th>employee_id</th>\n",
       "      <th></th>\n",
       "    </tr>\n",
       "  </thead>\n",
       "  <tbody>\n",
       "    <tr>\n",
       "      <th>1</th>\n",
       "      <td>Python</td>\n",
       "    </tr>\n",
       "    <tr>\n",
       "      <th>1</th>\n",
       "      <td>Mathematics</td>\n",
       "    </tr>\n",
       "    <tr>\n",
       "      <th>2</th>\n",
       "      <td>Statistics</td>\n",
       "    </tr>\n",
       "  </tbody>\n",
       "</table>\n",
       "</div>"
      ],
      "text/plain": [
       "               expertise\n",
       "employee_id             \n",
       "1                 Python\n",
       "1            Mathematics\n",
       "2             Statistics"
      ]
     },
     "execution_count": 3,
     "metadata": {},
     "output_type": "execute_result"
    }
   ],
   "source": [
    "df3 = pd.DataFrame({'employee_id':[1,1,2], 'expertise': [ 'Python', 'Mathematics', 'Statistics']})\n",
    "df3.set_index('employee_id', inplace = True)\n",
    "df3"
   ]
  },
  {
   "cell_type": "markdown",
   "id": "afdf11bb",
   "metadata": {},
   "source": [
    "Suppose one has to find out the profession, salary and expertise of the person with employee_id 2, the information about which is available in three different tables.\n",
    "It becomes easy with relational database as all the tables have one column 'Id' as a connecting link.\n",
    "Otherwise one has to create one more table as given below."
   ]
  },
  {
   "cell_type": "code",
   "execution_count": 4,
   "id": "091a38f4",
   "metadata": {},
   "outputs": [
    {
     "data": {
      "text/html": [
       "<div>\n",
       "<style scoped>\n",
       "    .dataframe tbody tr th:only-of-type {\n",
       "        vertical-align: middle;\n",
       "    }\n",
       "\n",
       "    .dataframe tbody tr th {\n",
       "        vertical-align: top;\n",
       "    }\n",
       "\n",
       "    .dataframe thead th {\n",
       "        text-align: right;\n",
       "    }\n",
       "</style>\n",
       "<table border=\"1\" class=\"dataframe\">\n",
       "  <thead>\n",
       "    <tr style=\"text-align: right;\">\n",
       "      <th></th>\n",
       "      <th>profession</th>\n",
       "      <th>salary</th>\n",
       "      <th>expertise</th>\n",
       "      <th>employee_name</th>\n",
       "      <th>location</th>\n",
       "    </tr>\n",
       "    <tr>\n",
       "      <th>employee_id</th>\n",
       "      <th></th>\n",
       "      <th></th>\n",
       "      <th></th>\n",
       "      <th></th>\n",
       "      <th></th>\n",
       "    </tr>\n",
       "  </thead>\n",
       "  <tbody>\n",
       "    <tr>\n",
       "      <th>1</th>\n",
       "      <td>Engineer</td>\n",
       "      <td>60000</td>\n",
       "      <td>Python</td>\n",
       "      <td>Rahul</td>\n",
       "      <td>Mumbai</td>\n",
       "    </tr>\n",
       "    <tr>\n",
       "      <th>1</th>\n",
       "      <td>Engineer</td>\n",
       "      <td>60000</td>\n",
       "      <td>Mathematics</td>\n",
       "      <td>Rahul</td>\n",
       "      <td>Mumbai</td>\n",
       "    </tr>\n",
       "    <tr>\n",
       "      <th>2</th>\n",
       "      <td>Statistician</td>\n",
       "      <td>80000</td>\n",
       "      <td>Statistics</td>\n",
       "      <td>Radhika</td>\n",
       "      <td>Pune</td>\n",
       "    </tr>\n",
       "  </tbody>\n",
       "</table>\n",
       "</div>"
      ],
      "text/plain": [
       "               profession  salary    expertise employee_name location\n",
       "employee_id                                                          \n",
       "1                Engineer   60000       Python         Rahul   Mumbai\n",
       "1                Engineer   60000  Mathematics         Rahul   Mumbai\n",
       "2            Statistician   80000   Statistics       Radhika     Pune"
      ]
     },
     "execution_count": 4,
     "metadata": {},
     "output_type": "execute_result"
    }
   ],
   "source": [
    "df = pd.DataFrame({'employee_id':[1,1,2],'profession': ['Engineer','Engineer', 'Statistician'], 'salary':[60000,60000, 80000], 'expertise': [ 'Python', 'Mathematics', 'Statistics'],'employee_name': ['Rahul', 'Rahul', 'Radhika'], 'location':['Mumbai','Mumbai', 'Pune']})\n",
    "df.set_index('employee_id', inplace = True)\n",
    "df"
   ]
  },
  {
   "cell_type": "code",
   "execution_count": null,
   "id": "a0303415",
   "metadata": {},
   "outputs": [],
   "source": []
  },
  {
   "cell_type": "markdown",
   "id": "d2afbf78",
   "metadata": {},
   "source": [
    "Comment in SQL is either preceded by two hyphens or can be written within /* ... */ as shown below : \n",
    "\n",
    "-- comment goes here\n",
    "\n",
    "/* comment goes here */"
   ]
  },
  {
   "cell_type": "code",
   "execution_count": null,
   "id": "ca8b247c",
   "metadata": {},
   "outputs": [],
   "source": []
  },
  {
   "cell_type": "markdown",
   "id": "113f1a63",
   "metadata": {},
   "source": [
    "How to install mysql link - \n",
    "https://www.mysql.com/downloads/"
   ]
  },
  {
   "cell_type": "code",
   "execution_count": null,
   "id": "3da5eb91",
   "metadata": {},
   "outputs": [],
   "source": []
  }
 ],
 "metadata": {
  "kernelspec": {
   "display_name": "Python 3 (ipykernel)",
   "language": "python",
   "name": "python3"
  },
  "language_info": {
   "codemirror_mode": {
    "name": "ipython",
    "version": 3
   },
   "file_extension": ".py",
   "mimetype": "text/x-python",
   "name": "python",
   "nbconvert_exporter": "python",
   "pygments_lexer": "ipython3",
   "version": "3.10.5"
  }
 },
 "nbformat": 4,
 "nbformat_minor": 5
}
