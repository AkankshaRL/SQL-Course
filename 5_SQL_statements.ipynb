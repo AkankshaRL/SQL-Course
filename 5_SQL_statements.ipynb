{
 "cells": [
  {
   "cell_type": "markdown",
   "id": "aa37642b",
   "metadata": {},
   "source": [
    "``` sql\n",
    "CREATE TABLE cities ( id INTEGER PRIMARY KEY, name TEXT, pincode INTEGER, state TEXT);\n",
    "\n",
    "INSERT INTO cities VALUES (1 , 'Mumbai', 400001, 'Maharashtra');\n",
    "\n",
    "INSERT INTO cities VALUES (2 , 'Chennai', 600001, 'Tamil Nadu');\n",
    "\n",
    "INSERT INTO cities VALUES (3 , 'Kolkata', 700001, 'West Bengal');\n",
    "```"
   ]
  },
  {
   "cell_type": "markdown",
   "id": "187802f2",
   "metadata": {},
   "source": [
    "-1- UPDATE statement\n",
    "\n",
    "- to modify existing rows in a table"
   ]
  },
  {
   "cell_type": "markdown",
   "id": "78365193",
   "metadata": {},
   "source": [
    "``` sql\n",
    "/* UPDATE statement syntax */\n",
    "UPDATE table_name SET col1 = value1 , col2 = value2 WHERE condition ;\n",
    "\n",
    "UPDATE cities SET name = 'Calcutta' WHERE id = 3 ;\n",
    "SELECT * FROM cities\n",
    "```"
   ]
  },
  {
   "cell_type": "code",
   "execution_count": null,
   "id": "20a7159c",
   "metadata": {},
   "outputs": [],
   "source": []
  },
  {
   "cell_type": "markdown",
   "id": "13b6b42e",
   "metadata": {},
   "source": [
    "WHERE condition is optional \n",
    "``` sql\n",
    "UPDATE cities SET pincode = pincode + 1 ;\n",
    "SELECT * FROM cities ;\n",
    "```"
   ]
  },
  {
   "cell_type": "code",
   "execution_count": null,
   "id": "d3f438a6",
   "metadata": {},
   "outputs": [],
   "source": []
  },
  {
   "cell_type": "markdown",
   "id": "bf8c0add",
   "metadata": {},
   "source": [
    "-2- DELETE statement\n",
    "\n",
    "- to delete rows from a table"
   ]
  },
  {
   "cell_type": "markdown",
   "id": "e9493d45",
   "metadata": {},
   "source": [
    "``` sql\n",
    "/* DELETE statement syntax */\n",
    "DELETE FROM table_name WHERE condition ;\n",
    "\n",
    "DELETE FROM cities WHERE id = 3 ;\n",
    "SELECT * FROM cities\n",
    "```"
   ]
  },
  {
   "cell_type": "code",
   "execution_count": null,
   "id": "5a175df7",
   "metadata": {},
   "outputs": [],
   "source": []
  },
  {
   "cell_type": "markdown",
   "id": "dd860a2e",
   "metadata": {},
   "source": [
    "Here WHERE clause is optional. So if WHERE clause is not written then it will delete all the rows.\n",
    "``` sql\n",
    "/* Code given below will delete all the rows in a table */\n",
    "DELETE FROM cities ;\n",
    "SELECT * FROM cities \n",
    "```"
   ]
  },
  {
   "cell_type": "code",
   "execution_count": null,
   "id": "5b5a8a53",
   "metadata": {},
   "outputs": [],
   "source": []
  },
  {
   "cell_type": "markdown",
   "id": "7cf006f1",
   "metadata": {},
   "source": [
    "-3- TRUNCATE statement\n",
    "\n",
    "- to delete all the rows from table and free the space containing table\n",
    "(Difference between DELETE and TRUNCATE is that DELETE can delete all the rows if no condition is specified but does not free the space unlike TRUNCATE space.)"
   ]
  },
  {
   "cell_type": "markdown",
   "id": "85137a11",
   "metadata": {},
   "source": [
    "``` sql\n",
    "/* TRUNCATE statement syntax */\n",
    "TRUNCATE TABLE table_name ;\n",
    "\n",
    "TRUNCATE TABLE cities ;\n",
    "SELECT * FROM students\n",
    "```"
   ]
  },
  {
   "cell_type": "code",
   "execution_count": null,
   "id": "c4c5acfe",
   "metadata": {},
   "outputs": [],
   "source": []
  },
  {
   "cell_type": "markdown",
   "id": "befb996a",
   "metadata": {},
   "source": [
    "-4- DROP statement\n",
    "\n",
    "- deletes all the rows and table-structure is removed\n",
    "- all relationships with other tables will no longer be valid. Integrity constraints woll be dropped which is not the case when TRUNCATE statement is used"
   ]
  },
  {
   "cell_type": "markdown",
   "id": "3fb496ed",
   "metadata": {},
   "source": [
    "``` sql\n",
    "/* DROP statement synrax*/ \n",
    "DROP TABLE table_name ;\n",
    "\n",
    "DROP TABLE cities ;\n",
    "SELECT * FROM cities\n",
    "```"
   ]
  },
  {
   "cell_type": "markdown",
   "id": "997e48d0",
   "metadata": {},
   "source": [
    "When we try to select all the rows after DROP statement, it fetches error unlike in case of TRUNCATE statement."
   ]
  },
  {
   "cell_type": "code",
   "execution_count": null,
   "id": "4aa11566",
   "metadata": {},
   "outputs": [],
   "source": []
  },
  {
   "cell_type": "markdown",
   "id": "09a87d19",
   "metadata": {},
   "source": [
    "-5- CREATE statement\n",
    "\n",
    "- to create table with column names along with datatype of each column\n",
    "\n",
    "- Integrity constraints like primary key, foreign key, unique key can also be defined for columns while creating table"
   ]
  },
  {
   "cell_type": "markdown",
   "id": "767fedd9",
   "metadata": {},
   "source": [
    "``` sql\n",
    "CREATE TABLE students ( id INTEGER PRIMARY KEY, name TEXT, age INTEGER, grade TEXT, marks INTEGER);\n",
    "\n",
    "INSERT INTO students VALUES (1 , 'Rahul', 10, 'A', 95);\n",
    "\n",
    "INSERT INTO students VALUES (2 , 'Radhika', 11, 'B', 75);\n",
    "\n",
    "INSERT INTO students VALUES (3 , 'Ramesh', 12, 'B', 78);\n",
    "```"
   ]
  },
  {
   "cell_type": "code",
   "execution_count": null,
   "id": "3e9031e4",
   "metadata": {},
   "outputs": [],
   "source": []
  },
  {
   "cell_type": "markdown",
   "id": "421f7a51",
   "metadata": {},
   "source": [
    "-6- DISTINCT statement\n",
    "\n",
    "- to choose unique values in row"
   ]
  },
  {
   "cell_type": "markdown",
   "id": "fe5561d9",
   "metadata": {},
   "source": [
    "``` sql\n",
    "SELECT DISTINCT grade FROM students\n",
    "```"
   ]
  },
  {
   "cell_type": "code",
   "execution_count": null,
   "id": "d8a4a5e7",
   "metadata": {},
   "outputs": [],
   "source": []
  },
  {
   "cell_type": "markdown",
   "id": "3996b405",
   "metadata": {},
   "source": [
    "-7- ALTER statement\n",
    "\n",
    "- add or drop table columns"
   ]
  },
  {
   "cell_type": "markdown",
   "id": "47a7ea1b",
   "metadata": {},
   "source": [
    "``` sql\n",
    "/* ALTER statement syntax*/\n",
    "ALTER TABLE table_name ADD/MODIFY column_name datatype ;\n",
    "\n",
    "ALTER TABLE students ADD games TEXT ;\n",
    "\n",
    "SELECT * FROM students\n",
    "```"
   ]
  },
  {
   "cell_type": "code",
   "execution_count": null,
   "id": "09d93c72",
   "metadata": {},
   "outputs": [],
   "source": []
  },
  {
   "cell_type": "markdown",
   "id": "1138d1a3",
   "metadata": {},
   "source": [
    "``` sql\n",
    "ALTER TABLE table_name DROP column_name ;\n",
    "\n",
    "ALTER TABLE students DROP games ;\n",
    "\n",
    "SELECT * FROM students\n",
    "```"
   ]
  },
  {
   "cell_type": "code",
   "execution_count": null,
   "id": "c0af2aca",
   "metadata": {},
   "outputs": [],
   "source": []
  },
  {
   "cell_type": "markdown",
   "id": "1a411b48",
   "metadata": {},
   "source": [
    "-8- RENAME statement\n",
    "\n",
    "- change the name of table"
   ]
  },
  {
   "cell_type": "markdown",
   "id": "30af4dca",
   "metadata": {},
   "source": [
    "``` sql\n",
    "/* RENAME statement syntax */\n",
    "ALTER TABLE old_table_name RENAME TO new_table_name ;\n",
    "\n",
    "ALTER TABLE students RENAME  TO catalogue ;\n",
    "\n",
    "SELECT * FROM catalogue \n",
    "```"
   ]
  },
  {
   "cell_type": "code",
   "execution_count": null,
   "id": "2fff9de2",
   "metadata": {},
   "outputs": [],
   "source": []
  }
 ],
 "metadata": {
  "kernelspec": {
   "display_name": "Python 3 (ipykernel)",
   "language": "python",
   "name": "python3"
  },
  "language_info": {
   "codemirror_mode": {
    "name": "ipython",
    "version": 3
   },
   "file_extension": ".py",
   "mimetype": "text/x-python",
   "name": "python",
   "nbconvert_exporter": "python",
   "pygments_lexer": "ipython3",
   "version": "3.10.5"
  }
 },
 "nbformat": 4,
 "nbformat_minor": 5
}
