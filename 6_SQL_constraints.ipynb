{
 "cells": [
  {
   "cell_type": "markdown",
   "id": "125e39ce",
   "metadata": {},
   "source": [
    "# Integrity constraints \n",
    "\n",
    "- to ensure that data integrity is not affected \n",
    "- to guard against accidental damage to database"
   ]
  },
  {
   "cell_type": "markdown",
   "id": "f9b9ac3b",
   "metadata": {},
   "source": [
    "## 1- Primary key\n",
    "\n",
    "- to define a column or combination of columns to uniquely identify each row in a table\n",
    "\n",
    "For single column :\n",
    "\n",
    "``` sql\n",
    "CREATE TABLE table_name ( column_name datatype PRIMARY KEY ,...  ) ;\n",
    "-- alternate way\n",
    "CREATE TABLE table_name ( column_name datatype CONSTRAINT contraint_name PRIMARY KEY, ...) ;\n",
    "```\n",
    "\n",
    "For example :\n",
    "\n",
    "``` sql\n",
    "CREATE TABLE employee ( id INTEGER PRIMARY KEY, name TEXT, age INTEGER, location TEXT ) ;\n",
    "-- alternate way\n",
    "CREATE TABLE employee ( id INTEGER CONSTRAINT emp_id_pk PRIMARY KEY, name TEXT, age INTEGER, location TEXT ) ;\n",
    "\n",
    "```"
   ]
  },
  {
   "cell_type": "code",
   "execution_count": null,
   "id": "d6aa38ab",
   "metadata": {},
   "outputs": [],
   "source": []
  },
  {
   "cell_type": "markdown",
   "id": "57200a6b",
   "metadata": {},
   "source": [
    "For multiple columns:\n",
    "\n",
    "``` sql\n",
    "CREATE TABLE table_name (col1 datatype_col1, col2 datatype_col2, col3datatype_col3, CONSTRAINT constraint_name PRIMARY KEY (col1, col2)))\n",
    "```\n",
    "\n",
    "For example :\n",
    "``` sql\n",
    "CREATE TABLE employee ( id INTEGER, name TEXT,  age INTEGER, location TEXT, CONSTRAINT emp_pk PRIMARY KEY (id, location))) \n",
    "```"
   ]
  },
  {
   "cell_type": "code",
   "execution_count": null,
   "id": "abf6d9e1",
   "metadata": {},
   "outputs": [],
   "source": []
  },
  {
   "cell_type": "markdown",
   "id": "2d7a72a8",
   "metadata": {},
   "source": [
    "## 2- NOT NULL contraint\n",
    "\n",
    "- to ensure that there are not any null values in column/columns in a table\n",
    "\n",
    "``` sql\n",
    "CREATE TABLE table_name ( column_name datatype NOT NULL ,...  ) ;\n",
    "-- alternate way\n",
    "CREATE TABLE table_name ( column_name datatype CONSTRAINT contraint_name NOT NULL, ...) ;\n",
    "```\n",
    "\n",
    "For example :\n",
    "\n",
    "``` sql\n",
    "CREATE TABLE employee ( id INTEGER , name TEXT NOT NULL, age INTEGER, location TEXT ) ;\n",
    "-- alternate way\n",
    "CREATE TABLE employee ( id INTEGER , name TEXT CONSTRAINT emp_name_nn NOT NULL, age INTEGER,  location TEXT ) ;\n",
    "\n",
    "```\n",
    "NOT NULL can be specified to multiple columns too."
   ]
  },
  {
   "cell_type": "code",
   "execution_count": null,
   "id": "689a2516",
   "metadata": {},
   "outputs": [],
   "source": []
  },
  {
   "cell_type": "markdown",
   "id": "472a5ed5",
   "metadata": {},
   "source": [
    "## 3- UNIQUE KEY\n",
    "\n",
    "- to ensure that column/table has unique(distinct) values\n",
    "- columns can have a NULL value but the values cannot be duplicated\n",
    "\n",
    "``` sql\n",
    "CREATE TABLE table_name ( column_name datatype UNIQUE ,...  ) ;\n",
    "-- alternate way\n",
    "CREATE TABLE table_name ( column_name datatype CONSTRAINT contraint_name UNIQUE, ...) ;\n",
    "```\n",
    "\n",
    "For example :\n",
    "\n",
    "``` sql\n",
    "CREATE TABLE employee ( id INTEGER , name TEXT UNIQUE, age INTEGER, location TEXT ) ;\n",
    "-- alternate way\n",
    "CREATE TABLE employee ( id INTEGER , name TEXT CONSTRAINT emp_name_uk UNIQUE, age INTEGER,  location TEXT ) ;\n",
    "\n",
    "```\n",
    "UNIQUE KEY can be specified to multiple columns too."
   ]
  },
  {
   "cell_type": "code",
   "execution_count": null,
   "id": "e5fe387a",
   "metadata": {},
   "outputs": [],
   "source": []
  },
  {
   "cell_type": "markdown",
   "id": "5d5666da",
   "metadata": {},
   "source": [
    "## 4- FOREIGN KEY or REFERENTIAL KEY\n",
    "\n",
    "- to establish a relationship between multiple columns of same or different tables\n",
    "- to identify any column referencing PRIMARY KEY in another table\n",
    "- for a column to be defined as a foreign key, it should be defined as primary key in the table which it is referencing\n",
    "- multiple columns can be defined as foreign key"
   ]
  },
  {
   "cell_type": "code",
   "execution_count": null,
   "id": "942768cc",
   "metadata": {},
   "outputs": [],
   "source": []
  },
  {
   "cell_type": "markdown",
   "id": "99440a62",
   "metadata": {},
   "source": [
    "Use of foreign key :\n",
    "- In foreign key reference, a link is created between two tables when the column that hold the primary key for one table is referenced by column in other table "
   ]
  },
  {
   "cell_type": "markdown",
   "id": "9f545e3d",
   "metadata": {},
   "source": [
    "``` sql\n",
    "/* First table */\n",
    "CREATE TABLE sales_person(id INTEGER PRIMARY KEY,Sales_person_id INTEGER,\n",
    "                          item_sold text,price INTEGER not null);\n",
    "INSERT INTO sales_person VALUES(1, 111, 'Television', 50000) ;\n",
    "INSERT INTO sales_person VALUES(2, 111, 'Laptop', 60000) ;\n",
    "INSERT INTO sales_person VALUES(3, 222, 'Fridge', 30000) ;\n",
    "INSERT INTO sales_person VALUES(4, 222, 'Laptop', 40000) ;\n",
    "\n",
    "/* Second table */\n",
    "CREATE TABLE sales_order(id INTEGER PRIMARY KEY,\n",
    "                         Sales_person_id INTEGER, order_number text NOT NULL);\n",
    "INSERT INTO sales_order VALUES(1, 111, 'HM123') ;\n",
    "INSERT INTO sales_order VALUES(2, 111, 'MD456') ;\n",
    "INSERT INTO sales_order VALUES(3, 222, 'AB789') ;\n",
    "INSERT INTO sales_order VALUES(4, 222, 'KG482') ;\n",
    "FOREIGN KEY Sales_person_id REFERENCES sales_person (Sales_person_id) ;\n",
    "```"
   ]
  },
  {
   "cell_type": "markdown",
   "id": "c236e7f2",
   "metadata": {},
   "source": [
    "Sales_person_id column is present in both table. First table has Sales_person_id column as primary key. Second table has id column as primary key and Sales_person_id as foreign key.\n",
    "Due to this foreign key relationship, values in Sales_person_id column cannot be changed or inserted into second table(where it is foreign key).\n",
    "\n",
    "So value of a column in a table where it is foreign key can be changed only in a table where it is primary key."
   ]
  },
  {
   "cell_type": "code",
   "execution_count": null,
   "id": "7c62d15c",
   "metadata": {},
   "outputs": [],
   "source": []
  }
 ],
 "metadata": {
  "kernelspec": {
   "display_name": "Python 3 (ipykernel)",
   "language": "python",
   "name": "python3"
  },
  "language_info": {
   "codemirror_mode": {
    "name": "ipython",
    "version": 3
   },
   "file_extension": ".py",
   "mimetype": "text/x-python",
   "name": "python",
   "nbconvert_exporter": "python",
   "pygments_lexer": "ipython3",
   "version": "3.10.5"
  }
 },
 "nbformat": 4,
 "nbformat_minor": 5
}
