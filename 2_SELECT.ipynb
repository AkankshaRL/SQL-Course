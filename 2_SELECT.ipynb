{
 "cells": [
  {
   "cell_type": "markdown",
   "id": "61800ffb",
   "metadata": {},
   "source": [
    "``` sql\n",
    "CREATE TABLE table_name ( col1_name col1_datatype , col2_name col2_datatype , col3_name col3_datatype );\n",
    "\n",
    "INSERT INTO table_name VALUES (col1_value , col2_value, col3_value );\n",
    "```"
   ]
  },
  {
   "cell_type": "code",
   "execution_count": null,
   "id": "8f74a29b",
   "metadata": {},
   "outputs": [],
   "source": []
  },
  {
   "cell_type": "markdown",
   "id": "3ea8e561",
   "metadata": {},
   "source": [
    "``` sql\n",
    "CREATE TABLE cities ( id INTEGER PRIMARY KEY, name TEXT, pincode INTEGER, state TEXT);\n",
    "\n",
    "INSERT INTO cities VALUES (1 , 'Mumbai', 400001, 'Maharashtra');\n",
    "\n",
    "INSERT INTO cities VALUES (2 , 'Chennai', 600001, 'Tamil Nadu');\n",
    "\n",
    "INSERT INTO cities VALUES (3 , 'Kolkata', 700001, 'West Bengal');\n",
    "```"
   ]
  },
  {
   "cell_type": "markdown",
   "id": "bc15902a",
   "metadata": {},
   "source": [
    "For the time being ignore the code that we have written to create above table and let's write first  query."
   ]
  },
  {
   "cell_type": "code",
   "execution_count": null,
   "id": "dd617216",
   "metadata": {},
   "outputs": [],
   "source": []
  },
  {
   "cell_type": "markdown",
   "id": "2f9d5b40",
   "metadata": {},
   "source": [
    "1) SELECT statement is used to select one or more columns from a table."
   ]
  },
  {
   "cell_type": "markdown",
   "id": "ecda74cd",
   "metadata": {},
   "source": [
    "``` sql\n",
    "/* this is a syntax for SELECT query\n",
    "to select one or more columns */\n",
    "\n",
    "SELECT column1, column2, ... FROM table_name \n",
    "\n",
    "-- to select one column\n",
    "\n",
    "SELECT name FROM cities \n",
    "```"
   ]
  },
  {
   "cell_type": "code",
   "execution_count": null,
   "id": "fb51d279",
   "metadata": {},
   "outputs": [],
   "source": []
  },
  {
   "cell_type": "markdown",
   "id": "59501877",
   "metadata": {},
   "source": [
    "``` sql\n",
    "-- to select multiple columns\n",
    "\n",
    "SELECT name, pincode FROM cities \n",
    "```"
   ]
  },
  {
   "cell_type": "code",
   "execution_count": null,
   "id": "fa5750fe",
   "metadata": {},
   "outputs": [],
   "source": []
  },
  {
   "cell_type": "markdown",
   "id": "e4deea66",
   "metadata": {},
   "source": [
    "``` sql\n",
    "-- to select all the columns\n",
    "\n",
    "SELECT * FROM cities \n",
    "```"
   ]
  },
  {
   "cell_type": "code",
   "execution_count": null,
   "id": "2d680dad",
   "metadata": {},
   "outputs": [],
   "source": []
  },
  {
   "cell_type": "markdown",
   "id": "b2980408",
   "metadata": {},
   "source": [
    "SELECT statements are not case-sensitive so we can also write.\n",
    "\n",
    "select name from cities \n",
    "\n",
    "But convention is to use upper case letters for keywords to differentiate from other text."
   ]
  },
  {
   "cell_type": "code",
   "execution_count": null,
   "id": "e3bc89e2",
   "metadata": {},
   "outputs": [],
   "source": []
  },
  {
   "cell_type": "markdown",
   "id": "09803d15",
   "metadata": {},
   "source": [
    "SQL aliases are used to give a table, or a column in a table, a temporary name. An alias only exists for the duration of that query. It is created with the AS keyword."
   ]
  },
  {
   "cell_type": "markdown",
   "id": "26f5698a",
   "metadata": {},
   "source": [
    "``` sql\n",
    "-- alias\n",
    "\n",
    "SELECT CONCAT(name, ', ', state, ', ', pincode, ' - ') AS Address FROM cities \n",
    "\n",
    "SELECT id + pincode AS new_pincode FROM cities \n",
    "```"
   ]
  },
  {
   "cell_type": "code",
   "execution_count": null,
   "id": "6197bd66",
   "metadata": {},
   "outputs": [],
   "source": [
    "# try this - SELECT name + ' ' + state AS city_state FROM cities "
   ]
  },
  {
   "cell_type": "markdown",
   "id": "3b13ca2d",
   "metadata": {},
   "source": [
    "These new columns created using alias are temporary so we cannot find those in original table.\n",
    "\n",
    "``` sql\n",
    "SELECT * FROM cities\n",
    "```"
   ]
  },
  {
   "cell_type": "code",
   "execution_count": null,
   "id": "0dc1e7e1",
   "metadata": {},
   "outputs": [],
   "source": []
  },
  {
   "cell_type": "markdown",
   "id": "822b57f5",
   "metadata": {},
   "source": [
    "``` sql\n",
    "/* aliases for columns */\n",
    "\n",
    "SELECT name AS city_name FROM cities\n",
    "\n",
    "SELECT id + pincode AS new_pincode FROM cities\n",
    "```"
   ]
  },
  {
   "cell_type": "code",
   "execution_count": null,
   "id": "eccfb796",
   "metadata": {},
   "outputs": [],
   "source": []
  },
  {
   "cell_type": "markdown",
   "id": "247778f2",
   "metadata": {},
   "source": [
    "``` sql\n",
    "/* aliases for table (commomnly used in JOIN statements)*/\n",
    "\n",
    "SELECT c.state FROM cities c\n",
    "```\n",
    "\n",
    "Alias 'c' is defined for 'cities' table and used to refer column 'state' from table 'c'. "
   ]
  },
  {
   "cell_type": "markdown",
   "id": "52800a57",
   "metadata": {},
   "source": [
    "Aliases are useful when :\n",
    "- more than one tables involved in a query\n",
    "- column names are long and/or not readable\n",
    "- more than one columns are combined together"
   ]
  },
  {
   "cell_type": "code",
   "execution_count": null,
   "id": "adaf69fc",
   "metadata": {},
   "outputs": [],
   "source": []
  },
  {
   "cell_type": "markdown",
   "id": "17067078",
   "metadata": {},
   "source": [
    "2) INSERT statement is used to add new row to the table."
   ]
  },
  {
   "cell_type": "markdown",
   "id": "10105bb3",
   "metadata": {},
   "source": [
    "``` sql\n",
    "/* this is a syntax for INSERT query\n",
    "to add one row to all the columns */\n",
    "\n",
    "INSERT INTO table_name\n",
    "VALUES (col1_value, col2_value, .. colN_value) ;\n",
    "\n",
    "```"
   ]
  },
  {
   "cell_type": "markdown",
   "id": "b0836169",
   "metadata": {},
   "source": [
    "Values to be added in row (col1_value, col2_value, .. colN_value) should be in same order and of same datatype as that of columns. Also total values added in a row must be equal to the number of columns."
   ]
  },
  {
   "cell_type": "markdown",
   "id": "d3079961",
   "metadata": {},
   "source": [
    "``` sql\n",
    "INSERT INTO cities VALUES (4, 'Bengaluru', 56001, 'Karnataka') \n",
    "\n",
    "SELECT * FROM cities\n",
    "```"
   ]
  },
  {
   "cell_type": "code",
   "execution_count": null,
   "id": "81ea99b1",
   "metadata": {},
   "outputs": [],
   "source": []
  },
  {
   "cell_type": "markdown",
   "id": "a3b9a3e2",
   "metadata": {},
   "source": [
    "``` sql\n",
    "/* this is a syntax for INSERT query\n",
    "to add more rows to all the columns */\n",
    "\n",
    "INSERT INTO table_name\n",
    "VALUES (col1_value, col2_value, .. colN_value), (col1_value, col2_value, .. colN_value)... ;\n",
    "\n",
    "INSERT INTO table_name\n",
    "VALUES (5, 'Hyderabad', 50001, 'Telangana'), (6, 'Patna', 80001, 'Bihar')\n",
    "\n",
    "SELECT * FROM cities\n",
    "```"
   ]
  },
  {
   "cell_type": "code",
   "execution_count": 1,
   "id": "5022e72b",
   "metadata": {},
   "outputs": [],
   "source": [
    "# output image"
   ]
  },
  {
   "cell_type": "markdown",
   "id": "a991987c",
   "metadata": {},
   "source": [
    "``` sql\n",
    "/* this is a syntax for INSERT query\n",
    "to add a row to specific columns */\n",
    "\n",
    "INSERT INTO table_name (col_name1, col_name2 )\n",
    "VALUES (col1_value, col2_value ) ;\n",
    "\n",
    "INSERT INTO cities (id, name, state) VALUES (4 , 'Indore', 'Madhya Pradesh');\n",
    "\n",
    "WE did not assign any value to the pincode column, NULL value appears there in the tabble.\n",
    "\n",
    "SELECT * FROM cities\n",
    "```"
   ]
  },
  {
   "cell_type": "code",
   "execution_count": null,
   "id": "3944bfce",
   "metadata": {},
   "outputs": [],
   "source": []
  }
 ],
 "metadata": {
  "kernelspec": {
   "display_name": "Python 3 (ipykernel)",
   "language": "python",
   "name": "python3"
  },
  "language_info": {
   "codemirror_mode": {
    "name": "ipython",
    "version": 3
   },
   "file_extension": ".py",
   "mimetype": "text/x-python",
   "name": "python",
   "nbconvert_exporter": "python",
   "pygments_lexer": "ipython3",
   "version": "3.10.5"
  }
 },
 "nbformat": 4,
 "nbformat_minor": 5
}
