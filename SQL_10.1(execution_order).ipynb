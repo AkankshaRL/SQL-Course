{
 "cells": [
  {
   "cell_type": "markdown",
   "id": "bc610bcd",
   "metadata": {},
   "source": [
    "# Order of execution of query\n",
    "\n",
    "Parts of queries are executed in a particular order, this order is dicussed in detail below"
   ]
  },
  {
   "cell_type": "markdown",
   "id": "c82e63ef",
   "metadata": {},
   "source": [
    "``` sql\n",
    "SELECT DISTINCT col_name, AGGREGATE_FUNCTION(col_name), …\n",
    "FROM table_name \n",
    "JOIN other_table ON table_name.col_name = other_table.col_name\n",
    "WHERE constraint_expression \n",
    "GROUP BY col_name \n",
    "HAVING constraint_expression\n",
    "ORDER BY col_name ASC/DESC\n",
    "LIMIT number1 OFFSET number2;\n",
    "```"
   ]
  },
  {
   "cell_type": "markdown",
   "id": "5cb40f52",
   "metadata": {},
   "source": [
    "### 1- FROM and JOIN\n",
    "\n",
    "Temporary tables are created when FROM clause and JOIN statement are first executed to decide the total values in rows and columns used in query.  \n",
    "\n",
    "### 2. WHERE\n",
    "Then WHERE condition is executed to select the rows (of the tables selected by FROM clause) which staisfy the condition. \n",
    "\n",
    "### 3. GROUP BY\n",
    "Then grouping is done based on the column specified in the GROUP BY clause. So there will only be as many rows as there are unique values in that column. It means that we need to use this when we have aggregate functions in our query. \n",
    "\n",
    "### 4. HAVING\n",
    "Conditions in the HAVING clause are then applied to the grouped rows and remaining rows that don't satisfy the constraint are removed.\n",
    "\n",
    "### 5. SELECT\n",
    "SELECT query is then executed.\n",
    "\n",
    "### 6. DISTINCT\n",
    "DISTINCT will then be used to get rows with distinct/unique values.\n",
    "\n",
    "### 7. ORDER BY\n",
    "ORDER BY clause is then used to sort the rows in either ascending or descending order. *Since all the expressions in the SELECT part of the query have been computed, you can reference aliases in this clause.*\n",
    "\n",
    "### 8. LIMIT / OFFSET\n",
    "Finally, the rows that fall inside the range specified by the LIMIT and OFFSET are kept and all the other rows are removed."
   ]
  }
 ],
 "metadata": {
  "kernelspec": {
   "display_name": "Python 3 (ipykernel)",
   "language": "python",
   "name": "python3"
  },
  "language_info": {
   "codemirror_mode": {
    "name": "ipython",
    "version": 3
   },
   "file_extension": ".py",
   "mimetype": "text/x-python",
   "name": "python",
   "nbconvert_exporter": "python",
   "pygments_lexer": "ipython3",
   "version": "3.10.5"
  }
 },
 "nbformat": 4,
 "nbformat_minor": 5
}
