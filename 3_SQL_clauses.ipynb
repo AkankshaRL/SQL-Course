{
 "cells": [
  {
   "cell_type": "markdown",
   "id": "93de30c5",
   "metadata": {},
   "source": [
    "``` sql\n",
    "CREATE TABLE students ( id INTEGER PRIMARY KEY, name TEXT, age INTEGER, grade TEXT, marks INTEGER);\n",
    "\n",
    "INSERT INTO students VALUES (1 , 'Rahul', 10, 'A', 95);\n",
    "\n",
    "INSERT INTO students VALUES (2 , 'Radhika', 11, 'B', 75);\n",
    "\n",
    "INSERT INTO students VALUES (3 , 'Ramesh', 12, 'B', 78);\n",
    "```"
   ]
  },
  {
   "cell_type": "markdown",
   "id": "c20dcb17",
   "metadata": {},
   "source": [
    "1) WHERE clause\n",
    "\n",
    "- used to get specific information and/or filtering the data "
   ]
  },
  {
   "cell_type": "markdown",
   "id": "bfd1b6bb",
   "metadata": {},
   "source": [
    "``` sql\n",
    "/* syntax of WHERE clause */\n",
    "\n",
    "SELECT column_list FROM table_name WHERE condition\n",
    "\n",
    "SELECT name, grade FROM students WHERE grade = 'B'\n",
    "```"
   ]
  },
  {
   "cell_type": "code",
   "execution_count": null,
   "id": "d281754a",
   "metadata": {},
   "outputs": [],
   "source": []
  },
  {
   "cell_type": "markdown",
   "id": "4a1a1ed9",
   "metadata": {},
   "source": [
    "``` sql\n",
    "SELECT marks, grade FROM students WHERE marks < 90\n",
    "```"
   ]
  },
  {
   "cell_type": "code",
   "execution_count": null,
   "id": "b9167502",
   "metadata": {},
   "outputs": [],
   "source": []
  },
  {
   "cell_type": "markdown",
   "id": "8a88cf1d",
   "metadata": {},
   "source": [
    "2) ORDER BY clause\n",
    "\n",
    "- used in SELECT statements to order results in ascending or descending order (default - ascending)"
   ]
  },
  {
   "cell_type": "markdown",
   "id": "f78c302a",
   "metadata": {},
   "source": [
    "``` sql\n",
    "/* syntax of ORDER BY clause*/\n",
    "\n",
    "SELECT column_list FROM table_name ORDER BY col_name ASC/DESC\n",
    "```"
   ]
  },
  {
   "cell_type": "markdown",
   "id": "e68a7225",
   "metadata": {},
   "source": [
    "This query will return table with 'marks' column in descending order.\n",
    "\n",
    "``` sql\n",
    "SELECT name, marks, grade FROM students ORDER BY marks DESC\n",
    "```"
   ]
  },
  {
   "cell_type": "code",
   "execution_count": null,
   "id": "0b7b8e2e",
   "metadata": {},
   "outputs": [],
   "source": []
  },
  {
   "cell_type": "markdown",
   "id": "328f5750",
   "metadata": {},
   "source": [
    "If not mentioned, table is ordered in ascending order by default.\n",
    "\n",
    "``` sql\n",
    "SELECT * FROM students ORDER BY age\n",
    "```"
   ]
  },
  {
   "cell_type": "code",
   "execution_count": null,
   "id": "7f29e962",
   "metadata": {},
   "outputs": [],
   "source": []
  },
  {
   "cell_type": "markdown",
   "id": "f915b669",
   "metadata": {},
   "source": [
    "Ascending or descending can be specified separately for separate columns. Column with text data gets aranged in alphabetical order.\n",
    "\n",
    "``` sql\n",
    "SELECT name, marks FROM students ORDER BY name ASC, marks DESC\n",
    "```"
   ]
  },
  {
   "cell_type": "code",
   "execution_count": null,
   "id": "5a17d9e6",
   "metadata": {},
   "outputs": [],
   "source": []
  },
  {
   "cell_type": "markdown",
   "id": "8ca7cf4a",
   "metadata": {},
   "source": [
    "3) GROUP BY clause\n",
    "\n",
    "- used along with aggregate/group function\n",
    "- similar to what we studied in pandas in Data Science"
   ]
  },
  {
   "cell_type": "markdown",
   "id": "aba16902",
   "metadata": {},
   "source": [
    "Aggregate/group functions:\n",
    "- COUNT, MAX, MIN, AVG, SUM, DISTINCT\n",
    "- operates on group of rows and returns one value for entire column "
   ]
  },
  {
   "cell_type": "markdown",
   "id": "119cb9a9",
   "metadata": {},
   "source": [
    "-1- COUNT \n",
    "- returns number of rows in a table that satisfies the condition specified in WHERE condition\n",
    "- If WHERE condition is not specified, it returns total number of rows in that table"
   ]
  },
  {
   "cell_type": "markdown",
   "id": "25d7e3cc",
   "metadata": {},
   "source": [
    "``` sql\n",
    "SELECT COUNT (grade) FROM students WHERE grade = 'B'\n",
    "```"
   ]
  },
  {
   "cell_type": "code",
   "execution_count": null,
   "id": "2768c97b",
   "metadata": {},
   "outputs": [],
   "source": []
  },
  {
   "cell_type": "markdown",
   "id": "749ce564",
   "metadata": {},
   "source": [
    "``` sql\n",
    "SELECT COUNT (age) FROM students \n",
    "```"
   ]
  },
  {
   "cell_type": "code",
   "execution_count": null,
   "id": "42287e13",
   "metadata": {},
   "outputs": [],
   "source": []
  },
  {
   "cell_type": "markdown",
   "id": "c6356cf2",
   "metadata": {},
   "source": [
    "-2- DISTINCT \n",
    "- used to select unique rows"
   ]
  },
  {
   "cell_type": "markdown",
   "id": "a0966752",
   "metadata": {},
   "source": [
    "SELECT DISTINCT grade FROM students"
   ]
  },
  {
   "cell_type": "code",
   "execution_count": null,
   "id": "2a348d0c",
   "metadata": {},
   "outputs": [],
   "source": []
  },
  {
   "cell_type": "markdown",
   "id": "29608841",
   "metadata": {},
   "source": [
    "-3- MIN \n",
    "\n",
    "SELECT MIN (age) FROM students"
   ]
  },
  {
   "cell_type": "code",
   "execution_count": null,
   "id": "bf5edcf2",
   "metadata": {},
   "outputs": [],
   "source": []
  },
  {
   "cell_type": "markdown",
   "id": "88ffe317",
   "metadata": {},
   "source": [
    "-4- MAX\n",
    "\n",
    "SELECT MAX (age) FROM students"
   ]
  },
  {
   "cell_type": "code",
   "execution_count": null,
   "id": "f1d0ebb0",
   "metadata": {},
   "outputs": [],
   "source": []
  },
  {
   "cell_type": "markdown",
   "id": "025ce08e",
   "metadata": {},
   "source": [
    "-5- AVG  \n",
    "\n",
    "SELECT AVG (marks) FROM students -- returns average of values in MARKS column"
   ]
  },
  {
   "cell_type": "code",
   "execution_count": null,
   "id": "eae8c468",
   "metadata": {},
   "outputs": [],
   "source": []
  },
  {
   "cell_type": "markdown",
   "id": "5b20aeb4",
   "metadata": {},
   "source": [
    "-6- SUM\n",
    "\n",
    "SELECT SUM (marks) FROM students -- returns total sum of the values in marks column"
   ]
  },
  {
   "cell_type": "code",
   "execution_count": null,
   "id": "fe7a2145",
   "metadata": {},
   "outputs": [],
   "source": []
  },
  {
   "cell_type": "code",
   "execution_count": null,
   "id": "deadc915",
   "metadata": {},
   "outputs": [],
   "source": []
  },
  {
   "cell_type": "markdown",
   "id": "b1d9c558",
   "metadata": {},
   "source": [
    "/* Use of GROUP BY with aggregate function */\n",
    "\n",
    "SELECT SUM (marks) FROM students GROUP BY grade"
   ]
  },
  {
   "cell_type": "code",
   "execution_count": null,
   "id": "91b6e675",
   "metadata": {},
   "outputs": [],
   "source": []
  },
  {
   "cell_type": "markdown",
   "id": "b1ef1a87",
   "metadata": {},
   "source": [
    "SELECT MAX(marks) FROM students GROUP BY grade"
   ]
  },
  {
   "cell_type": "code",
   "execution_count": null,
   "id": "8d514fcb",
   "metadata": {},
   "outputs": [],
   "source": []
  },
  {
   "cell_type": "markdown",
   "id": "f561998a",
   "metadata": {},
   "source": [
    "SELECT grade, COUNT(*) FROM students GROUP BY grade"
   ]
  },
  {
   "cell_type": "code",
   "execution_count": null,
   "id": "33409550",
   "metadata": {},
   "outputs": [],
   "source": []
  },
  {
   "cell_type": "markdown",
   "id": "74580428",
   "metadata": {},
   "source": [
    "4) HAVING clause\n",
    "\n",
    "- used to filter the data based on group/aggregate functions (similar to WHERE)\n",
    "- group/aggregate functions cannot be used with WHERE clause but with HAVING clause"
   ]
  },
  {
   "cell_type": "markdown",
   "id": "cb7b79f5",
   "metadata": {},
   "source": [
    "SELECT sum(marks) FROM students GROUP BY grade HAVING SUM(marks) > 100"
   ]
  },
  {
   "cell_type": "code",
   "execution_count": null,
   "id": "5b8b2c71",
   "metadata": {},
   "outputs": [],
   "source": []
  }
 ],
 "metadata": {
  "kernelspec": {
   "display_name": "Python 3 (ipykernel)",
   "language": "python",
   "name": "python3"
  },
  "language_info": {
   "codemirror_mode": {
    "name": "ipython",
    "version": 3
   },
   "file_extension": ".py",
   "mimetype": "text/x-python",
   "name": "python",
   "nbconvert_exporter": "python",
   "pygments_lexer": "ipython3",
   "version": "3.10.5"
  }
 },
 "nbformat": 4,
 "nbformat_minor": 5
}
