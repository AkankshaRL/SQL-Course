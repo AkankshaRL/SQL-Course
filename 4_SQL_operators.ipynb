{
 "cells": [
  {
   "cell_type": "markdown",
   "id": "6505b60a",
   "metadata": {},
   "source": [
    "``` sql\n",
    "CREATE TABLE students ( name TEXT, age INTEGER, subject TEXT, marks INTEGER);\n",
    "\n",
    "INSERT INTO students VALUES ('Rahul', 10, 'Maths', 95);\n",
    "\n",
    "INSERT INTO students VALUES ('Rahul', 10, 'Science', 86);\n",
    "\n",
    "INSERT INTO students VALUES ('Radhika', 11, 'Science', 75);\n",
    "\n",
    "INSERT INTO students VALUES ('Radhika', 11, 'Maths', 69);\n",
    "\n",
    "INSERT INTO students VALUES ('Ramesh', 12, 'History', 68);\n",
    "\n",
    "INSERT INTO students VALUES ('Ramesh', 12, 'Science', 73);\n",
    "```"
   ]
  },
  {
   "cell_type": "markdown",
   "id": "852f34a9",
   "metadata": {},
   "source": [
    "-1- SQL Logical operators\n",
    "\n",
    "- AND, OR, NOT (similar to what we studied in pandas)\n",
    "\n",
    "-2- SQL Comparison operators\n",
    "\n",
    "- !=, >, <, >=, <=, = (single equal to '=' sign for comparison)"
   ]
  },
  {
   "cell_type": "code",
   "execution_count": null,
   "id": "32338e61",
   "metadata": {},
   "outputs": [],
   "source": []
  },
  {
   "cell_type": "markdown",
   "id": "946a8104",
   "metadata": {},
   "source": [
    "``` sql\n",
    "SELECT name, subject FROM students WHERE marks > 70 AND age < 12\n",
    "```"
   ]
  },
  {
   "cell_type": "code",
   "execution_count": null,
   "id": "a25ea473",
   "metadata": {},
   "outputs": [],
   "source": []
  },
  {
   "cell_type": "markdown",
   "id": "7a1095db",
   "metadata": {},
   "source": [
    "``` sql\n",
    "SELECT name, subject, marks FROM students WHERE subject != 'Science'\n",
    "```"
   ]
  },
  {
   "cell_type": "code",
   "execution_count": null,
   "id": "e55ae66d",
   "metadata": {},
   "outputs": [],
   "source": []
  },
  {
   "cell_type": "markdown",
   "id": "3d734929",
   "metadata": {},
   "source": [
    "/* <> can also be used in place of != */\n",
    "``` sql\n",
    "SELECT name, subject, marks FROM students WHERE subject <> 'Science'\n",
    "```"
   ]
  },
  {
   "cell_type": "code",
   "execution_count": null,
   "id": "c7e41eba",
   "metadata": {},
   "outputs": [],
   "source": []
  },
  {
   "cell_type": "markdown",
   "id": "c743f338",
   "metadata": {},
   "source": [
    "NOTE : In case of nested logical operators, precedence is NOT > AND > OR ."
   ]
  },
  {
   "cell_type": "code",
   "execution_count": null,
   "id": "e3e8e323",
   "metadata": {},
   "outputs": [],
   "source": []
  },
  {
   "cell_type": "markdown",
   "id": "746c97c6",
   "metadata": {},
   "source": [
    "-3- SQL comparison keywords"
   ]
  },
  {
   "cell_type": "markdown",
   "id": "9c314503",
   "metadata": {},
   "source": [
    "BETWEEN … AND …\t\n",
    "\n",
    "-Number is within range of two values (inclusive)\t"
   ]
  },
  {
   "cell_type": "markdown",
   "id": "275a0c46",
   "metadata": {},
   "source": [
    "-- col_name BETWEEN number1 AND number2\n",
    "``` sql\n",
    "SELECT name, age FROM students WHERE marks BETWEEN 70 AND 80\n",
    "```"
   ]
  },
  {
   "cell_type": "code",
   "execution_count": null,
   "id": "4506c016",
   "metadata": {},
   "outputs": [],
   "source": []
  },
  {
   "cell_type": "markdown",
   "id": "d14540aa",
   "metadata": {},
   "source": [
    "NOT BETWEEN … AND …\n",
    "\n",
    "- Number is not within range of two values (inclusive)"
   ]
  },
  {
   "cell_type": "markdown",
   "id": "62c76217",
   "metadata": {},
   "source": [
    "-- col_name NOT BETWEEN number1 AND number2\n",
    "``` sql\n",
    "SELECT name, subject, marks FROM students WHERE marks NOT BETWEEN 70 AND 80\n",
    "```"
   ]
  },
  {
   "cell_type": "code",
   "execution_count": null,
   "id": "9f180ce4",
   "metadata": {},
   "outputs": [],
   "source": []
  },
  {
   "cell_type": "markdown",
   "id": "07dc661e",
   "metadata": {},
   "source": [
    "IN (…)\n",
    "\n",
    "- Number exists in a list"
   ]
  },
  {
   "cell_type": "markdown",
   "id": "eb73bfd5",
   "metadata": {},
   "source": [
    "-- col_name IN (list of numbers)\n",
    "``` sql\n",
    "SELECT name,subject FROM students WHERE marks IN (68,69)\n",
    "```"
   ]
  },
  {
   "cell_type": "code",
   "execution_count": null,
   "id": "00d7957a",
   "metadata": {},
   "outputs": [],
   "source": []
  },
  {
   "cell_type": "markdown",
   "id": "90e22fa6",
   "metadata": {},
   "source": [
    "NOT IN (…)\n",
    "\n",
    "- Number does not exist in a list"
   ]
  },
  {
   "cell_type": "markdown",
   "id": "a70723ba",
   "metadata": {},
   "source": [
    "-- col_name NOT IN (list of numbers)\n",
    "``` sql\n",
    "SELECT name,subject FROM students WHERE marks NOT IN (68,69)\n",
    "```"
   ]
  },
  {
   "cell_type": "code",
   "execution_count": null,
   "id": "e213bcf6",
   "metadata": {},
   "outputs": [],
   "source": []
  },
  {
   "cell_type": "code",
   "execution_count": null,
   "id": "0ed2c398",
   "metadata": {},
   "outputs": [],
   "source": []
  },
  {
   "cell_type": "markdown",
   "id": "cd07a3e8",
   "metadata": {},
   "source": [
    "'=' (equal to)\n",
    "\n",
    "- Case sensitive exact string comparison (notice the single equals)"
   ]
  },
  {
   "cell_type": "markdown",
   "id": "8d19175f",
   "metadata": {},
   "source": [
    "-- col_name = \"abc\"\n",
    "``` sql\n",
    "SELECT name, marks FROM students WHERE subject = 'History'\n",
    "```"
   ]
  },
  {
   "cell_type": "code",
   "execution_count": null,
   "id": "f7563726",
   "metadata": {},
   "outputs": [],
   "source": []
  },
  {
   "cell_type": "markdown",
   "id": "2ae8780f",
   "metadata": {},
   "source": [
    "!= or <> (not equal to)\n",
    "\n",
    "-Case sensitive exact string inequality comparison"
   ]
  },
  {
   "cell_type": "markdown",
   "id": "e60d6c61",
   "metadata": {},
   "source": [
    "-- col_name != \"abcd\"\n",
    "``` sql \n",
    "SELECT subject, marks FROM students WHERE subject <> 'Maths'\n",
    "```"
   ]
  },
  {
   "cell_type": "code",
   "execution_count": null,
   "id": "b7a49407",
   "metadata": {},
   "outputs": [],
   "source": []
  },
  {
   "cell_type": "markdown",
   "id": "b49e409f",
   "metadata": {},
   "source": [
    "LIKE\n",
    "\n",
    "-  Case insensitive exact string comparison"
   ]
  },
  {
   "cell_type": "markdown",
   "id": "a2df9f0a",
   "metadata": {},
   "source": [
    "-- col_name LIKE \"ABC\"\n",
    "``` sql \n",
    "SELECT name, marks FROM students WHERE subject LIKE 'MaThS'\n",
    "```"
   ]
  },
  {
   "cell_type": "code",
   "execution_count": null,
   "id": "5302eae8",
   "metadata": {},
   "outputs": [],
   "source": []
  },
  {
   "cell_type": "markdown",
   "id": "9797be3e",
   "metadata": {},
   "source": [
    "NOT LIKE\n",
    "\n",
    "-Case insensitive exact string inequality comparison"
   ]
  },
  {
   "cell_type": "markdown",
   "id": "ccf3d653",
   "metadata": {},
   "source": [
    "-- col_name NOT LIKE \"ABCD\"\n",
    "``` sql\n",
    "SELECT subject, marks FROM students WHERE subject NOT LIKE 'ScIenCe'\n",
    "```"
   ]
  },
  {
   "cell_type": "code",
   "execution_count": null,
   "id": "4499cf70",
   "metadata": {},
   "outputs": [],
   "source": []
  },
  {
   "cell_type": "markdown",
   "id": "175dfa0c",
   "metadata": {},
   "source": [
    "%\n",
    "\n",
    "- Used anywhere in a string to match a sequence of zero or more characters(only with LIKE or NOT LIKE)"
   ]
  },
  {
   "cell_type": "markdown",
   "id": "f426db3d",
   "metadata": {},
   "source": [
    "-- col_name LIKE \"%AT%\" (matches \"AT\", \"ATTIC\", \"CAT\" or even \"BATS\")\n",
    "``` sql\n",
    "SELECT name, subject FROM students WHERE name LIKE 'Ra%'\n",
    "```"
   ]
  },
  {
   "cell_type": "code",
   "execution_count": null,
   "id": "577cc22a",
   "metadata": {},
   "outputs": [],
   "source": []
  },
  {
   "cell_type": "markdown",
   "id": "f54c8341",
   "metadata": {},
   "source": [
    "``` sql\n",
    "SELECT name, subject, FROM students WHERE subject LIKE '%t%'\n",
    "```"
   ]
  },
  {
   "cell_type": "code",
   "execution_count": null,
   "id": "8c192a74",
   "metadata": {},
   "outputs": [],
   "source": []
  },
  {
   "cell_type": "markdown",
   "id": "55c0e6e0",
   "metadata": {},
   "source": [
    "'_' (underscore)\n",
    "\n",
    "- Used anywhere in a string to match a single character (only with LIKE or NOT LIKE)"
   ]
  },
  {
   "cell_type": "markdown",
   "id": "e53f0590",
   "metadata": {},
   "source": [
    "-- col_name LIKE \"AN_\" (matches \"AND\", but not \"AN\")\n",
    "``` sql \n",
    "SELECT name, subject, marks FROM students WHERE subject LIKE 'Math_' \n",
    "```"
   ]
  },
  {
   "cell_type": "code",
   "execution_count": null,
   "id": "9c77f972",
   "metadata": {},
   "outputs": [],
   "source": []
  },
  {
   "cell_type": "markdown",
   "id": "d194d546",
   "metadata": {},
   "source": [
    "IN (…)\n",
    "\n",
    "- String exists in a list\t"
   ]
  },
  {
   "cell_type": "markdown",
   "id": "c2b65a68",
   "metadata": {},
   "source": [
    "-- col_name IN (\"A\", \"B\", \"C\")\n",
    "``` sql\n",
    "SELECT name, marks FROM students WHERE subject IN ('Maths', 'History')\n",
    "```"
   ]
  },
  {
   "cell_type": "code",
   "execution_count": null,
   "id": "c929e42a",
   "metadata": {},
   "outputs": [],
   "source": []
  },
  {
   "cell_type": "markdown",
   "id": "941f3d17",
   "metadata": {},
   "source": [
    "NOT IN (…)\n",
    "\n",
    "- String does not exist in a list"
   ]
  },
  {
   "cell_type": "markdown",
   "id": "152c0ad2",
   "metadata": {},
   "source": [
    "-- col_name NOT IN (\"D\", \"E\", \"F\")\n",
    "``` sql\n",
    "SELECT name, subject, marks FROM students WHERE subject NOT IN ('Maths', 'History')\n",
    "```"
   ]
  },
  {
   "cell_type": "code",
   "execution_count": null,
   "id": "e0ad3abe",
   "metadata": {},
   "outputs": [],
   "source": []
  }
 ],
 "metadata": {
  "kernelspec": {
   "display_name": "Python 3 (ipykernel)",
   "language": "python",
   "name": "python3"
  },
  "language_info": {
   "codemirror_mode": {
    "name": "ipython",
    "version": 3
   },
   "file_extension": ".py",
   "mimetype": "text/x-python",
   "name": "python",
   "nbconvert_exporter": "python",
   "pygments_lexer": "ipython3",
   "version": "3.10.5"
  }
 },
 "nbformat": 4,
 "nbformat_minor": 5
}
