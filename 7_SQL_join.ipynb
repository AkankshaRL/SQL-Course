{
 "cells": [
  {
   "cell_type": "code",
   "execution_count": null,
   "id": "2c796247",
   "metadata": {},
   "outputs": [],
   "source": [
    "# auto increment"
   ]
  },
  {
   "cell_type": "markdown",
   "id": "0d966151",
   "metadata": {},
   "source": [
    "``` sql\n",
    "/* First table */\n",
    "CREATE TABLE owner(id INTEGER PRIMARY KEY, owner_name text, age INTEGER not null,\n",
    "                          pet_id INTEGER);\n",
    "INSERT INTO owner VALUES(1, 'Deviprasad', 57, 1) ;\n",
    "INSERT INTO owner VALUES(2, 'Anuradha', 27, 3) ;\n",
    "INSERT INTO owner VALUES(3, 'Raju', 39, 4) ;\n",
    "INSERT INTO owner VALUES(4, 'Anjali', 45, 2) ;\n",
    "INSERT INTO owner VALUES(5, 'Shyam', 37, NULL) ;\n",
    "\n",
    "/* Second table */\n",
    "CREATE TABLE pet(id INTEGER PRIMARY KEY, pet_name TEXT, age INTEGER, pet TEXT);\n",
    "INSERT INTO pet VALUES(1, 'Sheru', 3, 'Dog') ;\n",
    "INSERT INTO pet VALUES(2, 'Badal', 12, 'Horse') ;\n",
    "INSERT INTO pet VALUES(3, 'Moti', 5, 'Cat') ;\n",
    "INSERT INTO pet VALUES(4, 'Machli', 1, 'Fish') ;\n",
    "INSERT INTO pet VALUES(5, 'Bhura', 7, 'Dog') ;\n",
    "```"
   ]
  },
  {
   "cell_type": "markdown",
   "id": "7e822e4f",
   "metadata": {},
   "source": [
    "# SQL JOIN\n",
    "\n",
    "- to relate information in different tables (two or more)\n",
    "\n",
    "## 1- INNER JOIN\n",
    "\n",
    "- matches rows from the first table and the second table which have the same key (as defined by the ON constraint) to create a result row with the combined columns from both tables. (**intersection** of both the tables )\n",
    "\n",
    "``` sql\n",
    "SELECT column1, column2, …\n",
    "FROM table1\n",
    "INNER JOIN table2 \n",
    "    ON table1.common_col = table2.common_col\n",
    "WHERE condition(s)\n",
    "ORDER BY col_name ASC/DESC\n",
    "```\n",
    "\n",
    "For example :\n",
    "``` sql  \n",
    "SELECT owner_name, pet_name FROM owner INNER JOIN pet ON owner.pet_id = pet.id \n",
    "```"
   ]
  },
  {
   "cell_type": "code",
   "execution_count": null,
   "id": "e889c54a",
   "metadata": {},
   "outputs": [],
   "source": []
  },
  {
   "cell_type": "markdown",
   "id": "a12fc434",
   "metadata": {},
   "source": [
    "- LEFT INNER JOIN is same as LEFT JOIN and RIGHT INNER JOIN is same as RIGHT JOIN.\n",
    "- LEFT INNER JOIN gives common rows from both tables along with all the rows from **left** table.\n",
    "- RIGHT INNER JOIN gives common rows from both tables along with all the rows from **right** table."
   ]
  },
  {
   "cell_type": "markdown",
   "id": "a60e5f88",
   "metadata": {},
   "source": [
    "``` sql\n",
    "SELECT owner_name, pet_name FROM owner LEFT JOIN pet ON owner.pet_id = pet.id \n",
    "```"
   ]
  },
  {
   "cell_type": "code",
   "execution_count": null,
   "id": "6407ca0e",
   "metadata": {},
   "outputs": [],
   "source": []
  },
  {
   "cell_type": "markdown",
   "id": "cd846f71",
   "metadata": {},
   "source": [
    "We are trying to find all the persons with pet.\n",
    "But due to the use of LEFT JOIN in above output, last row from left table is also present even if it does not match the criteria i.e. 'Shyam' does not own any pet."
   ]
  },
  {
   "cell_type": "markdown",
   "id": "4e1d36ca",
   "metadata": {},
   "source": [
    "``` sql\n",
    "SELECT owner_name, pet_name FROM owner RIGHT JOIN pet ON owner.pet_id = pet.id \n",
    "```"
   ]
  },
  {
   "cell_type": "code",
   "execution_count": null,
   "id": "01001421",
   "metadata": {},
   "outputs": [],
   "source": []
  },
  {
   "cell_type": "markdown",
   "id": "26edab04",
   "metadata": {},
   "source": [
    "We are trying to find out all the pets with owners. But due to the use of RIGHT JOIN in above output, last row from right table is also present even if it does not match the criteria i.e. 'Bhura' pet does not belong to any owner."
   ]
  },
  {
   "cell_type": "markdown",
   "id": "6d405254",
   "metadata": {},
   "source": [
    "## 1- OUTER JOIN\n",
    "\n",
    "- FULL JOIN is same as OUTER JOIN\n",
    "- matches rows from the first table and the second table which have the same key (as defined by the ON constraint) to create a result row with the all the columns from both tables. (**union** of both the tables )\n",
    "\n",
    "``` sql\n",
    "SELECT column1, column2, …\n",
    "FROM table1\n",
    "OUTER JOIN table2 \n",
    "    ON table1.common_col = table2.common_col\n",
    "WHERE condition(s)\n",
    "ORDER BY col_name ASC/DESC\n",
    "```\n",
    "\n",
    "For example :\n",
    "``` sql\n",
    "SELECT owner_name, pet_name FROM owner OUTER JOIN pet ON owner.pet_id = pet.id \n",
    "\n",
    "-- alternate way\n",
    "\n",
    "SELECT owner_name, pet_name FROM owner FULL JOIN pet ON owner.pet_id = pet.id \n",
    "\n",
    "```"
   ]
  },
  {
   "cell_type": "code",
   "execution_count": null,
   "id": "9e58a80e",
   "metadata": {},
   "outputs": [],
   "source": []
  }
 ],
 "metadata": {
  "kernelspec": {
   "display_name": "Python 3",
   "language": "python",
   "name": "python3"
  },
  "language_info": {
   "codemirror_mode": {
    "name": "ipython",
    "version": 3
   },
   "file_extension": ".py",
   "mimetype": "text/x-python",
   "name": "python",
   "nbconvert_exporter": "python",
   "pygments_lexer": "ipython3",
   "version": "3.8.8"
  }
 },
 "nbformat": 4,
 "nbformat_minor": 5
}
